{
 "cells": [
  {
   "cell_type": "code",
   "execution_count": 1,
   "source": [
    "import numpy as np\n",
    "import pandas as pd\n",
    "import datetime\n",
    "import matplotlib.pyplot as plt\n",
    "import seaborn as sns"
   ],
   "outputs": [],
   "metadata": {}
  },
  {
   "cell_type": "markdown",
   "source": [
    "# most basic example of a class. "
   ],
   "metadata": {}
  },
  {
   "cell_type": "code",
   "execution_count": 2,
   "source": [
    "# first class with just a pass. \n",
    "class Employee:\n",
    "    '''just a pass to make sure it works. '''\n",
    "    pass"
   ],
   "outputs": [],
   "metadata": {}
  },
  {
   "cell_type": "code",
   "execution_count": 3,
   "source": [
    "#making unique instances of employee class. \n",
    "# instance variables contain data that is unique to each instance. \n",
    "emp_1 = Employee()\n",
    "emp_2 = Employee()\n",
    "\n",
    "emp_1.first = \"Mom\"\n",
    "emp_1.last = \"Is your Dad\"\n",
    "emp_1.email = \"momdad@urmomisurdad.net\"\n",
    "emp_1.pay = 100000000\n",
    "\n",
    "emp_2.first = \"Hobo\"\n",
    "emp_2.last = \"Baggins\"\n",
    "emp_2.email = \"hobo@richman.net\"\n",
    "emp_2.pay = 1000000000000\n",
    "\n",
    "print(emp_1.first)\n",
    "print(emp_2.first)"
   ],
   "outputs": [
    {
     "output_type": "stream",
     "name": "stdout",
     "text": [
      "Mom\n",
      "Hobo\n"
     ]
    }
   ],
   "metadata": {}
  },
  {
   "cell_type": "code",
   "execution_count": 4,
   "source": [
    "# each method takes the instance as the first argument. \n",
    "\n",
    "class Employee:\n",
    "    '''A class for employees. '''\n",
    "\n",
    "    raise_amount = 1.04\n",
    "\n",
    "    num_employees = 0\n",
    "    \n",
    "    # instance variable\n",
    "    def __init__(self, first, last, pay):\n",
    "        '''method to get all of our data '''\n",
    "        self.first = first\n",
    "        self.last = last\n",
    "        self.pay = pay\n",
    "        self.email = first + '.' + last + '@company.com'\n",
    "        # adding 1 for each employee\n",
    "        Employee.num_employees += 1\n",
    "    # instance variable\n",
    "    def fullname(self):\n",
    "        '''method to give us full name'''\n",
    "        return '{} {}'.format(self.first, self.last)\n",
    "    \n",
    "    # class variable\n",
    "    def apply_raise(self):\n",
    "        '''A class variable is a variable or attribute \n",
    "        of a class that is common to all instances of a class.'''\n",
    "        self.pay = int(self.pay * self.raise_amount)\n",
    "\n",
    "    # class method\n",
    "    @classmethod\n",
    "    def set_raise_amount(cls, amount):\n",
    "        cls.raise_amount = amount\n",
    "\n",
    "    @staticmethod\n",
    "    def is_workday(day):\n",
    "        '''A static method works like a normal method, \n",
    "        in that it doesn't take its \"self\" as an arguement. \n",
    "        But it is relevant to the over all class. '''\n",
    "\n",
    "        if day.weekday() == 5 or day.weekday() == 6:\n",
    "            return False\n",
    "        return True\n",
    "\n",
    "\n",
    "\n",
    "class Developer(Employee):\n",
    "\n",
    "    '''this Developer class is inheriting Employee class\n",
    "    aka has all its funcitonality'''\n",
    "\n",
    "    raise_amt = 1.10\n",
    "\n",
    "    def __init__(self, first, last, pay, prog_lang):\n",
    "        '''this is a way to modify the original instance\n",
    "        without messing witht he code.'''\n",
    "        super().__init__(first, last, pay)\n",
    "        self.prog_lang = prog_lang\n",
    "\n",
    "\n",
    "class Manager(Employee):\n",
    "    '''a class for managers (from Employee),\n",
    "    so why on __init__ employees = None and not \n",
    "    an empty list? don't worry about it....\n",
    "    thats why....'''\n",
    "    def __init__(self, first, last, pay, employees = None):\n",
    "        '''this is a way to modify the original instance\n",
    "        without messing witht he code.'''\n",
    "        super().__init__(first, last, pay)\n",
    "        if employees is None:\n",
    "            self.employees = []\n",
    "        else:\n",
    "            self.employees = employees\n",
    "    \n",
    "    def add_employee(self, emp):\n",
    "        if emp not in self.employees:\n",
    "            self.employees.append(emp)\n",
    "\n",
    "    def remove_employee(self, emp):\n",
    "        if emp in self.employees:\n",
    "            self.employees.remove(emp)\n",
    "    \n",
    "    def print_emp(self):\n",
    "        for emp in self.employees:\n",
    "            print(\"--->\", emp.fullname())"
   ],
   "outputs": [],
   "metadata": {}
  },
  {
   "cell_type": "code",
   "execution_count": 5,
   "source": [
    "\n",
    "print(Employee.num_employees)\n",
    "emp_1 = Employee(\"Thor\", \"Odenson\", 250)\n",
    "emp_2 = Employee(\"Loki\", \"Odenson\", 250)\n",
    "print(Employee.num_employees)\n",
    "emp_3 = Employee(\"Cat\", \"Dog\",\"50\")\n",
    "print(Employee.num_employees)\n",
    "#how to see everything inside of the instance\n",
    "print(emp_2.__dict__)\n",
    "\n",
    "\n",
    "#how to see everything inside of the class\n",
    "print(Employee.__dict__)\n",
    "\n",
    "emp_1.raise_amount = 1.05\n",
    "\n",
    "Employee.set_raise_amount(1.07) # will also change instance. \n",
    "\n",
    "print(Employee.raise_amount)\n",
    "print(emp_2.raise_amount)\n",
    "emp_3.raise_amount = 1.08\n",
    "#instance raise_amount is different that class raise_amount\n",
    "\n",
    "print(emp_3.raise_amount)"
   ],
   "outputs": [
    {
     "output_type": "stream",
     "name": "stdout",
     "text": [
      "0\n",
      "2\n",
      "3\n",
      "{'first': 'Loki', 'last': 'Odenson', 'pay': 250, 'email': 'Loki.Odenson@company.com'}\n",
      "{'__module__': '__main__', '__doc__': 'A class for employees. ', 'raise_amount': 1.04, 'num_employees': 3, '__init__': <function Employee.__init__ at 0x7fdbdb627040>, 'fullname': <function Employee.fullname at 0x7fdbdb6270d0>, 'apply_raise': <function Employee.apply_raise at 0x7fdbdb627160>, 'set_raise_amount': <classmethod object at 0x7fdbdb6224f0>, 'is_workday': <staticmethod object at 0x7fdbdb622520>, '__dict__': <attribute '__dict__' of 'Employee' objects>, '__weakref__': <attribute '__weakref__' of 'Employee' objects>}\n",
      "1.07\n",
      "1.07\n",
      "1.08\n"
     ]
    }
   ],
   "metadata": {}
  },
  {
   "cell_type": "code",
   "execution_count": 6,
   "source": [
    "# checking static method\n",
    "my_date = datetime.date(1998,12,4)\n",
    "\n",
    "Employee.is_workday(my_date)"
   ],
   "outputs": [
    {
     "output_type": "execute_result",
     "data": {
      "text/plain": [
       "True"
      ]
     },
     "metadata": {},
     "execution_count": 6
    }
   ],
   "metadata": {}
  },
  {
   "cell_type": "code",
   "execution_count": 7,
   "source": [
    "# Developer example\n",
    "dev_1 = Developer(\"loli\",\"ascuqhu\",40000,\"Python\")\n",
    "dev_2 = Developer(\"asdf\",\"qqws\",79898989,\"Java Script\")"
   ],
   "outputs": [],
   "metadata": {}
  },
  {
   "cell_type": "code",
   "execution_count": 16,
   "source": [
    "# manager example. \n",
    "mgr_1 = Manager(\"Sue\",\"Smith\",300000,[dev_1])\n",
    "mgr_2 = Manager(\"Dwayne\",\"Johnson\",300000, [dev_2])\n",
    "\n",
    "mgr_2.add_employee(dev_1)\n",
    "\n",
    "mgr_2.print_emp()\n",
    "\n",
    "# using isinstance() to check what is an instance of what\n",
    "print(isinstance(mgr_2, Manager))\n",
    "print(isinstance(dev_1, Manager))\n",
    "print(isinstance(dev_1, Developer))\n",
    "\n",
    "# using issubclass to tell us if something is a subclass of another\n",
    "print(issubclass(Developer, Employee))\n",
    "print(issubclass(Manager, Developer))"
   ],
   "outputs": [
    {
     "output_type": "stream",
     "name": "stdout",
     "text": [
      "---> asdf qqws\n",
      "---> loli ascuqhu\n",
      "True\n",
      "False\n",
      "True\n",
      "True\n",
      "False\n"
     ]
    }
   ],
   "metadata": {}
  },
  {
   "cell_type": "code",
   "execution_count": null,
   "source": [],
   "outputs": [],
   "metadata": {}
  },
  {
   "cell_type": "code",
   "execution_count": null,
   "source": [],
   "outputs": [],
   "metadata": {}
  }
 ],
 "metadata": {
  "orig_nbformat": 4,
  "language_info": {
   "name": "python",
   "version": "3.8.8",
   "mimetype": "text/x-python",
   "codemirror_mode": {
    "name": "ipython",
    "version": 3
   },
   "pygments_lexer": "ipython3",
   "nbconvert_exporter": "python",
   "file_extension": ".py"
  },
  "kernelspec": {
   "name": "python3",
   "display_name": "Python 3.8.8 64-bit ('PythonData': conda)"
  },
  "interpreter": {
   "hash": "ed32f2d57e4b098cb1fb01d8a618bbe0b6e2bfda5890389b41057b0406136066"
  }
 },
 "nbformat": 4,
 "nbformat_minor": 2
}