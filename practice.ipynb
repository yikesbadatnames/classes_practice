{
 "cells": [
  {
   "cell_type": "code",
   "execution_count": 1,
   "source": [
    "import numpy as np\n",
    "import pandas as pd\n",
    "import matplotlib.pyplot as plt\n",
    "import seaborn as sns"
   ],
   "outputs": [],
   "metadata": {}
  },
  {
   "cell_type": "code",
   "execution_count": 2,
   "source": [
    "# first class with just a pass. \n",
    "class Employee:\n",
    "    '''just a pass to make sure it works. '''\n",
    "    pass"
   ],
   "outputs": [],
   "metadata": {}
  },
  {
   "cell_type": "code",
   "execution_count": 5,
   "source": [
    "#making unique instances of employee class. \n",
    "# instance variables contain data that is unique to each instance. \n",
    "emp_1 = Employee()\n",
    "emp_2 = Employee()\n",
    "\n",
    "emp_1.first = \"Mom\"\n",
    "emp_1.last = \"Is your Dad\"\n",
    "emp_1.email = \"momdad@urmomisurdad.net\"\n",
    "emp_1.pay = 100000000\n",
    "\n",
    "emp_2.first = \"Hobo\"\n",
    "emp_2.last = \"Baggins\"\n",
    "emp_2.email = \"hobo@richman.net\"\n",
    "emp_2.pay = 1000000000000\n",
    "\n",
    "print(emp_1.first)\n",
    "print(emp_2.first)"
   ],
   "outputs": [
    {
     "output_type": "stream",
     "name": "stdout",
     "text": [
      "Mom\n",
      "Hobo\n"
     ]
    }
   ],
   "metadata": {}
  },
  {
   "cell_type": "code",
   "execution_count": 13,
   "source": [
    "# each method takes the instance as the first argument. \n",
    "class Employee:\n",
    "    '''A class for employees. '''\n",
    "\n",
    "    raise_amount = 1.04\n",
    "    # instance variable\n",
    "    def __init__(self, first, last, pay):\n",
    "        '''method to get all of our data '''\n",
    "        self.first = first\n",
    "        self.last = last\n",
    "        self.pay = pay\n",
    "        self.email = first + '.' + last + '@company.com'\n",
    "    # instance variable\n",
    "    def fullname(self):\n",
    "        '''method to give us full name'''\n",
    "        return '{} {}'.format(self.first, self.last)\n",
    "    \n",
    "    # class variable\n",
    "    def apply_raise(self):\n",
    "        self.pay = int(self.pay * self.raise_amount)\n",
    "\n"
   ],
   "outputs": [
    {
     "output_type": "stream",
     "name": "stdout",
     "text": [
      "{'first': 'Thor', 'last': 'Odenson', 'pay': '50000000', 'email': 'Thor.Odenson@company.com'}\n",
      "{'__module__': '__main__', '__doc__': 'A class for employees. ', 'raise_amount': 1.04, '__init__': <function Employee.__init__ at 0x7fc1004f5dc0>, 'fullname': <function Employee.fullname at 0x7fc132b05280>, 'apply_raise': <function Employee.apply_raise at 0x7fc132b05940>, '__dict__': <attribute '__dict__' of 'Employee' objects>, '__weakref__': <attribute '__weakref__' of 'Employee' objects>}\n",
      "1.04\n",
      "1.05\n",
      "1.04\n"
     ]
    }
   ],
   "metadata": {}
  },
  {
   "cell_type": "code",
   "execution_count": null,
   "source": [
    "#how to see everything inside of the instance\n",
    "print(emp_2.__dict__)\n",
    "\n",
    "\n",
    "#how to see everything inside of the class\n",
    "print(Employee.__dict__)\n",
    "\n",
    "#instance raise_amount is different that class raise_amount\n",
    "emp_2.raise_amount = 1.05\n",
    "\n",
    "print(Employee.raise_amount)\n",
    "print(emp_2.raise_amount)\n",
    "print(emp_1.raise_amount)"
   ],
   "outputs": [],
   "metadata": {}
  }
 ],
 "metadata": {
  "orig_nbformat": 4,
  "language_info": {
   "name": "python",
   "version": "3.8.8",
   "mimetype": "text/x-python",
   "codemirror_mode": {
    "name": "ipython",
    "version": 3
   },
   "pygments_lexer": "ipython3",
   "nbconvert_exporter": "python",
   "file_extension": ".py"
  },
  "kernelspec": {
   "name": "python3",
   "display_name": "Python 3.8.8 64-bit ('PythonData': conda)"
  },
  "interpreter": {
   "hash": "ed32f2d57e4b098cb1fb01d8a618bbe0b6e2bfda5890389b41057b0406136066"
  }
 },
 "nbformat": 4,
 "nbformat_minor": 2
}