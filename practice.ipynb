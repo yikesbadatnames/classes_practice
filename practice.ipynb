{
 "cells": [
  {
   "cell_type": "code",
   "execution_count": 1,
   "source": [
    "import numpy as np\n",
    "import pandas as pd\n",
    "import matplotlib.pyplot as plt\n",
    "import seaborn as sns"
   ],
   "outputs": [],
   "metadata": {}
  },
  {
   "cell_type": "code",
   "execution_count": 2,
   "source": [
    "# first class with just a pass. \n",
    "class Employee:\n",
    "    '''just a pass to make sure it works. '''\n",
    "    pass"
   ],
   "outputs": [],
   "metadata": {}
  },
  {
   "cell_type": "code",
   "execution_count": 5,
   "source": [
    "#making unique instances of employee class. \n",
    "# instance variables contain data that is unique to each instance. \n",
    "emp_1 = Employee()\n",
    "emp_2 = Employee()\n",
    "\n",
    "emp_1.first = \"Mom\"\n",
    "emp_1.last = \"Is your Dad\"\n",
    "emp_1.email = \"momdad@urmomisurdad.net\"\n",
    "emp_1.pay = 100000000\n",
    "\n",
    "emp_2.first = \"Hobo\"\n",
    "emp_2.last = \"Baggins\"\n",
    "emp_2.email = \"hobo@richman.net\"\n",
    "emp_2.pay = 1000000000000\n",
    "\n",
    "print(emp_1.first)\n",
    "print(emp_2.first)"
   ],
   "outputs": [
    {
     "output_type": "stream",
     "name": "stdout",
     "text": [
      "Mom\n",
      "Hobo\n"
     ]
    }
   ],
   "metadata": {}
  },
  {
   "cell_type": "code",
   "execution_count": 9,
   "source": [
    "# which is good... but very manual. \n",
    "# how do we get around that?\n",
    "# each method takes the instance as the first argument. \n",
    "class Employee:\n",
    "    '''adding a __innit__ function so that we can enter \n",
    "    the data easier. \n",
    "    \n",
    "    for __innit__ you need to pass \"self\" first. its a convention. \n",
    "    \n",
    "    email is good example of automation'''\n",
    "\n",
    "    def __init__(self, first, last, pay):\n",
    "        '''method to get all of our data '''\n",
    "        self.first = first\n",
    "        self.last = last\n",
    "        self.pay = pay\n",
    "        self.email = first + '.' + last + '@company.com'\n",
    "\n",
    "    def fullname(self):\n",
    "        '''method to give us full name'''\n",
    "        return '{} {}'.format(self.first, self.last)\n",
    "\n",
    "\n",
    "\n",
    "emp_1 = Employee(\"Loki\", \"Odenson\", \"10000000\")\n",
    "emp_2 = Employee(\"Thor\", \"Odenson\", \"50000000\")\n",
    "\n",
    "emp_2.fullname()\n"
   ],
   "outputs": [
    {
     "output_type": "execute_result",
     "data": {
      "text/plain": [
       "'Thor Odenson'"
      ]
     },
     "metadata": {},
     "execution_count": 9
    }
   ],
   "metadata": {}
  },
  {
   "cell_type": "code",
   "execution_count": null,
   "source": [],
   "outputs": [],
   "metadata": {}
  }
 ],
 "metadata": {
  "orig_nbformat": 4,
  "language_info": {
   "name": "python",
   "version": "3.8.8",
   "mimetype": "text/x-python",
   "codemirror_mode": {
    "name": "ipython",
    "version": 3
   },
   "pygments_lexer": "ipython3",
   "nbconvert_exporter": "python",
   "file_extension": ".py"
  },
  "kernelspec": {
   "name": "python3",
   "display_name": "Python 3.8.8 64-bit ('PythonData': conda)"
  },
  "interpreter": {
   "hash": "ed32f2d57e4b098cb1fb01d8a618bbe0b6e2bfda5890389b41057b0406136066"
  }
 },
 "nbformat": 4,
 "nbformat_minor": 2
}