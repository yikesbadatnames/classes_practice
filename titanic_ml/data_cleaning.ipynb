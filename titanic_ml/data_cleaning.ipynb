{
 "cells": [
  {
   "cell_type": "code",
   "execution_count": 1,
   "source": [
    "import numpy as np\n",
    "import pandas as pd\n",
    "import datetime\n",
    "import matplotlib.pyplot as plt\n",
    "import seaborn as sns\n",
    "import os\n",
    "\n",
    "from sklearn.metrics import balanced_accuracy_score\n",
    "from sklearn.metrics import confusion_matrix\n",
    "from imblearn.metrics import classification_report_imbalanced\n",
    "from imblearn.ensemble import BalancedRandomForestClassifier\n",
    "from imblearn.ensemble import EasyEnsembleClassifier\n",
    "from sklearn.metrics import plot_confusion_matrix\n",
    "from sklearn.model_selection import train_test_split\n",
    "\n"
   ],
   "outputs": [],
   "metadata": {}
  },
  {
   "cell_type": "code",
   "execution_count": 2,
   "source": [
    "\n",
    "# creating the class\n",
    "class TitanicMl(pd.DataFrame):\n",
    "    def normalize_cols(self):\n",
    "        '''\n",
    "        cleaning columns\n",
    "        '''\n",
    "        self.columns = self.columns.str.replace(\" \", \"_\")\n",
    "        self.columns = self.columns.str.lower()\n",
    "        return(self)\n",
    "\n",
    "    def drop_irrel_cols(self):\n",
    "        '''for this kaggle titanic_ml dataset, we determined that\n",
    "        we can fill nulls with zeros.'''\n",
    "        self =  self.drop([\"cabin\",\"ticket\"], axis = 1)\n",
    "        return self\n",
    "\n",
    "\n"
   ],
   "outputs": [],
   "metadata": {}
  },
  {
   "cell_type": "code",
   "execution_count": 3,
   "source": [
    "# Reading in Data\n",
    "test_df = pd.read_csv(os.path.join(\"resources\",\"test.csv\"))\n",
    "train_df = pd.read_csv(os.path.join(\"resources\",\"train.csv\"))"
   ],
   "outputs": [],
   "metadata": {}
  },
  {
   "cell_type": "markdown",
   "source": [
    "parch = # of parents / children aboard the Titanic\n",
    "<br>\n",
    "sibsp = # of siblings / spouses aboard the Titanic\n",
    "<br>\n",
    "survival = {0 = No, 1 = Yes}"
   ],
   "metadata": {}
  },
  {
   "cell_type": "code",
   "execution_count": 4,
   "source": [
    "# Normalizing Columns\n",
    "train_df = TitanicMl(train_df)\n",
    "train_df = train_df.normalize_cols()\n",
    "\n",
    "test_df = TitanicMl(test_df)\n",
    "test_df = test_df.normalize_cols()\n",
    "\n",
    "\n",
    "#dropping cabin and ticket column, as they may confuse the model. \n",
    "train_df = train_df.drop_irrel_cols()\n",
    "train_df.head()\n",
    "\n",
    "# taking data with value in age\n",
    "train_df = train_df[train_df.age.notna()]\n",
    "test_df = test_df[test_df.age.notna()]\n",
    "\n"
   ],
   "outputs": [],
   "metadata": {}
  },
  {
   "cell_type": "code",
   "execution_count": 5,
   "source": [
    "# it looks like the age and cabin column is good to fill with zero\n",
    "null_age = train_df[train_df.age.isnull()]\n"
   ],
   "outputs": [],
   "metadata": {}
  },
  {
   "cell_type": "code",
   "execution_count": 6,
   "source": [
    "# Getting our ml specific data. \n",
    "# This will be what we are using our ml model to train with. \n",
    "y = train_df.survived\n",
    "\n",
    "features = [\"pclass\", \"sex\", \"sibsp\", \"parch\",\"fare\",\"age\"]\n",
    "\n",
    "# X is our data for the ml model. \n",
    "X = pd.get_dummies(train_df[features])\n",
    "\n",
    "\n",
    "X_train, X_test, y_train, y_test = train_test_split(X, y, random_state=1)\n",
    "\n",
    "y_train.value_counts()"
   ],
   "outputs": [
    {
     "output_type": "execute_result",
     "data": {
      "text/plain": [
       "0    312\n",
       "1    223\n",
       "Name: survived, dtype: int64"
      ]
     },
     "metadata": {},
     "execution_count": 6
    }
   ],
   "metadata": {}
  },
  {
   "cell_type": "markdown",
   "source": [
    "# Balanced Random Forest Classifier"
   ],
   "metadata": {}
  },
  {
   "cell_type": "code",
   "execution_count": 7,
   "source": [
    "# creating the model. \n",
    "random_forest = BalancedRandomForestClassifier(n_estimators = 100)\n",
    "random_forest = random_forest.fit(X_train, y_train)\n",
    "\n",
    "# prediction\n",
    "y_pred = random_forest.predict(X_test)\n",
    "balanced_accuracy_score(y_test, y_pred)"
   ],
   "outputs": [
    {
     "output_type": "execute_result",
     "data": {
      "text/plain": [
       "0.8092350746268657"
      ]
     },
     "metadata": {},
     "execution_count": 7
    }
   ],
   "metadata": {}
  },
  {
   "cell_type": "markdown",
   "source": [
    "Without \"age\" acc = 0.7969161184210527\n",
    "\n",
    "with dropped null \"age\" = 0.8092350746268657"
   ],
   "metadata": {}
  },
  {
   "cell_type": "code",
   "execution_count": null,
   "source": [],
   "outputs": [],
   "metadata": {}
  }
 ],
 "metadata": {
  "orig_nbformat": 4,
  "language_info": {
   "name": "python",
   "version": "3.7.11",
   "mimetype": "text/x-python",
   "codemirror_mode": {
    "name": "ipython",
    "version": 3
   },
   "pygments_lexer": "ipython3",
   "nbconvert_exporter": "python",
   "file_extension": ".py"
  },
  "kernelspec": {
   "name": "python3",
   "display_name": "Python 3.7.11 64-bit ('mlenv': conda)"
  },
  "interpreter": {
   "hash": "d706f4171df605b02cf099f0cb41a0eb11966ab5378fd67a05927596a931571e"
  }
 },
 "nbformat": 4,
 "nbformat_minor": 2
}